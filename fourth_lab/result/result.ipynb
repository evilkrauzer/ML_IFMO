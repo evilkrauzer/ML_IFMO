{
 "cells": [
  {
   "cell_type": "markdown",
   "metadata": {},
   "source": [
    "# Лабораторная работа №1\n",
    "###  Исходные данные\n",
    "**Датасет**: https://archive.ics.uci.edu/ml/datasets/Smartphone-Based+Recognition+of+Human+Activities+and+Postural+Transitions\n",
    "<br>\n",
    "**Предметная область**: Человеческая активность, различные движения\n",
    "<br>**Список классов**:\n",
    "1. WALKING\n",
    "2. WALKING_UPSTAIRS\n",
    "3. WALKING_DOWNSTAIRS\n",
    "4. SITTING\n",
    "5. STANDING\n",
    "6. LAYING\n",
    "7. STAND_TO_SIT\n",
    "8. SIT_TO_STAND\n",
    "9. SIT_TO_LIE\n",
    "10. LIE_TO_SIT\n",
    "11. STAND_TO_LIE\n",
    "12. LIE_TO_STAND\n",
    "\n",
    "**Количество атрибутов**: 561\n",
    "<br>\n",
    "**Основные атрибуты**: Измерения гироскопа и акселерометра в 3х осях, фильтры их значений\n",
    "<br>\n",
    "**Полный список атрибутов**: Features.txt\n",
    "### Ход работы\n",
    "#### Исходный код\n"
   ]
  },
  {
   "cell_type": "code",
   "execution_count": 10,
   "metadata": {},
   "outputs": [],
   "source": [
    "import matplotlib.pyplot as plt\n",
    "import numpy as np\n",
    "import pandas as pd\n",
    "from sklearn import metrics\n",
    "from sklearn import svm\n",
    "from sklearn.model_selection import train_test_split\n",
    "from sklearn.model_selection import StratifiedShuffleSplit\n",
    "from sklearn.model_selection import GridSearchCV\n",
    "from matplotlib.colors import Normalize\n",
    "import warnings; warnings.simplefilter('ignore')\n",
    "\n",
    "import utils\n",
    "from data import Data\n",
    "\n",
    "\n",
    "class MidpointNormalize(Normalize):\n",
    "    def __init__(self, vmin=None, vmax=None, midpoint=None, clip=False):\n",
    "        self.midpoint = midpoint\n",
    "        Normalize.__init__(self, vmin, vmax, clip)\n",
    "\n",
    "    def __call__(self, value, clip=None):\n",
    "        x, y = [self.vmin, self.midpoint, self.vmax], [0, 0.5, 1]\n",
    "        return np.ma.masked_array(np.interp(value, x, y))\n",
    "\n",
    "\n",
    "def test_kernel_functions(data):\n",
    "    C = 1.0\n",
    "    svc = svm.SVC(kernel='linear', C=C).fit(data.train_data, data.train_classes)\n",
    "    lin_svc = svm.LinearSVC(C=C).fit(data.train_data, data.train_classes)\n",
    "    rbf_svc = svm.SVC(kernel='rbf', C=C).fit(data.train_data, data.train_classes)\n",
    "    sigmoid_svc = svm.SVC(kernel='sigmoid', C=C).fit(data.train_data, data.train_classes)\n",
    "    poly_svc = svm.SVC(kernel='poly', degree=3, C=C).fit(data.train_data, data.train_classes)\n",
    "\n",
    "    titles = ['SVC with linear kernel',\n",
    "              'LinearSVC (linear kernel)',\n",
    "              'SVC with rbf kernel',\n",
    "              'SVC with sigmoid kernel',\n",
    "              'SVC with poly kernel']\n",
    "\n",
    "    for i, clf in enumerate((svc, lin_svc, rbf_svc, sigmoid_svc, poly_svc)):\n",
    "        pred = clf.predict(data.test_data)\n",
    "        print('Accuracy for {}: {:.2%}'.format(titles[i], metrics.accuracy_score(data.test_classes, pred)))\n",
    "\n",
    "\n",
    "def poly_c_gamma_test(data):\n",
    "    C_range = np.logspace(-2, 7, 10)\n",
    "    gamma_range = np.logspace(-9, 0, 10)\n",
    "    param_grid = dict(gamma=gamma_range, C=C_range)\n",
    "\n",
    "    scores = get_svc_accuracy(param_grid, len(C_range), len(gamma_range), data)\n",
    "\n",
    "    draw(scores, gamma_range, C_range, 'gamma', 'C')\n",
    "\n",
    "\n",
    "def poly_c_coef_test(data):\n",
    "    C_range = np.logspace(-3, 4, 8)\n",
    "    coef0_range = np.logspace(-4, 3, 8)\n",
    "    param_grid = dict(coef0=coef0_range, C=C_range)\n",
    "\n",
    "    scores = get_svc_accuracy(param_grid, len(C_range), len(coef0_range), data)\n",
    "\n",
    "    draw(scores, coef0_range, C_range, 'coef0', 'C')\n",
    "\n",
    "\n",
    "def poly_c_degre_test(data):\n",
    "    C_range = np.logspace(-2, 5, 8)\n",
    "    degree_range = np.linspace(1, 4.5, 8)\n",
    "    param_grid = dict(degree=degree_range, C=C_range)\n",
    "\n",
    "    scores = get_svc_accuracy(param_grid, len(C_range), len(degree_range), data)\n",
    "\n",
    "    draw(scores, degree_range, C_range, 'degree', 'C')\n",
    "\n",
    "\n",
    "def get_svc_accuracy(param_grid, fst_length, scnd_length, data):\n",
    "    cv = StratifiedShuffleSplit(n_splits=5, test_size=0.2, random_state=42)\n",
    "    grid = GridSearchCV(svm.SVC(kernel='linear'), param_grid=param_grid, cv=cv)\n",
    "    grid.fit(data.data, data.classes)\n",
    "\n",
    "    return grid.cv_results_['mean_test_score'].reshape(scnd_length, fst_length)\n",
    "\n",
    "\n",
    "def draw(scores, fst_range, scnd_range, fst_name, scnd_name):\n",
    "    plt.figure(figsize=(8, 6))\n",
    "    plt.subplots_adjust(left=.2, right=0.95, bottom=0.15, top=0.95)\n",
    "    plt.imshow(scores, interpolation='nearest', cmap=plt.cm.hot,\n",
    "               norm=MidpointNormalize(vmin=0.2, midpoint=0.86))\n",
    "    plt.xlabel(fst_name)\n",
    "    plt.ylabel(scnd_name)\n",
    "    plt.colorbar()\n",
    "    plt.xticks(np.arange(len(fst_range)), fst_range, rotation=45)\n",
    "    plt.yticks(np.arange(len(scnd_range)), scnd_range)\n",
    "    plt.title('Validation accuracy')\n",
    "    plt.show()\n",
    "\n"
   ]
  },
  {
   "cell_type": "markdown",
   "metadata": {},
   "source": [
    "Ввиду слишком долгого вычисления в этой реализации, возьмем небольшой набор данных из исходного датасета"
   ]
  },
  {
   "cell_type": "markdown",
   "metadata": {},
   "source": [
    "Сравним следующие ядра:\n",
    "\n",
    "1. SVC with linear kernel,\n",
    "2. LinearSVC,\n",
    "3. SVC with rbf kernel,\n",
    "4. SVC with sigmoid kernel,\n",
    "5. SVC with poly kernel,\n"
   ]
  },
  {
   "cell_type": "code",
   "execution_count": 4,
   "metadata": {},
   "outputs": [
    {
     "name": "stdout",
     "output_type": "stream",
     "text": [
      "Accuracy for SVC with linear kernel: 79.40%\n",
      "Accuracy for LinearSVC (linear kernel): 76.39%\n",
      "Accuracy for SVC with rbf kernel: 58.80%\n",
      "Accuracy for SVC with sigmoid kernel: 49.79%\n",
      "Accuracy for SVC with poly kernel: 41.63%\n"
     ]
    }
   ],
   "source": [
    "    file_data, file_classes = utils.load_data()\n",
    "    data = Data(file_data, file_classes, 0.1,  0.7, 30)\n",
    "    test_kernel_functions(data)\n"
   ]
  },
  {
   "cell_type": "markdown",
   "metadata": {},
   "source": [
    "Из результатов сравнения видно, что лучше всего показало себя линейное ядро<br>\n",
    "Есть ещё параметр С общий для всех ядер SVM. Является регулирующей константой, разрешающей конфликт между двумя задачами: максимизацией зазора и минимизацией потерь.\n",
    "<br><br>\n",
    "Посмотрим, как влияют изменения С и y на способность предсказания классов:\n",
    "\n"
   ]
  },
  {
   "cell_type": "code",
   "execution_count": null,
   "metadata": {},
   "outputs": [],
   "source": [
    "poly_c_gamma_test(data)"
   ]
  },
  {
   "cell_type": "markdown",
   "metadata": {},
   "source": [
    "Теперь, как влияют изменения С и y на способность предсказания классов:\n",
    "\n"
   ]
  },
  {
   "cell_type": "code",
   "execution_count": 6,
   "metadata": {},
   "outputs": [
    {
     "data": {
      "image/png": "[encoded data removed]",
      "text/plain": [
       "<Figure size 576x432 with 2 Axes>"
      ]
     },
     "metadata": {
      "needs_background": "light"
     },
     "output_type": "display_data"
    }
   ],
   "source": [
    "poly_c_coef_test(data)\n"
   ]
  },
  {
   "cell_type": "markdown",
   "metadata": {},
   "source": [
    "Теперь, как влияют изменения С и d на способность предсказания классов:\n",
    "\n"
   ]
  },
  {
   "cell_type": "code",
   "execution_count": 7,
   "metadata": {},
   "outputs": [
    {
     "data": {
      "image/png": "[encoded data removed]",
      "text/plain": [
       "<Figure size 576x432 with 2 Axes>"
      ]
     },
     "metadata": {
      "needs_background": "light"
     },
     "output_type": "display_data"
    }
   ],
   "source": [
    "poly_c_degre_test(data)\n",
    "\n"
   ]
  },
  {
   "cell_type": "markdown",
   "metadata": {},
   "source": [
    "Посмотрим на влияние коэффициентов d и y:\n",
    "\n"
   ]
  },
  {
   "cell_type": "code",
   "execution_count": 9,
   "metadata": {},
   "outputs": [
    {
     "data": {
      "image/png": "[encoded data removed]",
      "text/plain": [
       "<Figure size 576x432 with 2 Axes>"
      ]
     },
     "metadata": {
      "needs_background": "light"
     },
     "output_type": "display_data"
    }
   ],
   "source": [
    "degree_range = np.linspace(1, 4.5, 8)\n",
    "gamma_range = np.logspace(-6, 1, 8)\n",
    "param_grid = dict(gamma=gamma_range, degree=degree_range)\n",
    "\n",
    "scores = get_svc_accuracy(param_grid, len(gamma_range), len(degree_range), data)\n",
    "draw(scores, gamma_range, degree_range, 'gamma', 'degree')\n"
   ]
  },
  {
   "cell_type": "markdown",
   "metadata": {},
   "source": [
    "Теперь проверим показатели полиномиального ядра с наилучшими показателями коэффициентов:\n",
    "\n"
   ]
  },
  {
   "cell_type": "code",
   "execution_count": null,
   "metadata": {},
   "outputs": [],
   "source": [
    "poly_svc = svm.SVC(kernel='poly', coef0=0.5, degree=2, C=1, gamma=1).fit(data.train_x, data.train_y)\n",
    "pred = poly_svc.predict(data.test_x)\n",
    "\n",
    "print('Accuracy: {:.2%}'.format(metrics.accuracy_score(data.test_y, pred)))\n"
   ]
  },
  {
   "cell_type": "markdown",
   "metadata": {},
   "source": [
    "### Вывод\n",
    "В ходе лабораторной работы были получены практические навыки работы с метрическими методами машинного обучения на практических примерах с использованием языка программирования python и библиотеки sklearn.\n",
    "<br>\n",
    "<br>\n",
    "Были использованы классификаторы K Nearest Neighbor Classifier и Naive Bayes Classifier из библиотеки sklearn, а также имплиментироваы собственные реализации данных алгоритмов. Библиотечные и реализованные алгоритмы показали примерно одинаковую высокую точность предсказаний.\n"
   ]
  },
  {
   "cell_type": "code",
   "execution_count": null,
   "metadata": {},
   "outputs": [],
   "source": []
  }
 ],
 "metadata": {
  "kernelspec": {
   "display_name": "Python 3",
   "language": "python",
   "name": "python3"
  },
  "language_info": {
   "codemirror_mode": {
    "name": "ipython",
    "version": 3
   },
   "file_extension": ".py",
   "mimetype": "text/x-python",
   "name": "python",
   "nbconvert_exporter": "python",
   "pygments_lexer": "ipython3",
   "version": "3.7.2"
  }
 },
 "nbformat": 4,
 "nbformat_minor": 1
}
