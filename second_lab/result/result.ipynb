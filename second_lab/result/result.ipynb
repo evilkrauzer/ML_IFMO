{
 "cells": [
  {
   "cell_type": "markdown",
   "metadata": {},
   "source": [
    "# Лабораторная работа №2\n",
    "\n",
    "### 1. Исходные данные\n",
    "**Датасет**: https://archive.ics.uci.edu/ml/datasets/Smartphone-Based+Recognition+of+Human+Activities+and+Postural+Transitions\n",
    "<br>\n",
    "**Предметная область**: Человеческая активность, различные движения\n",
    "<br>**Список классов**:\n",
    "1. WALKING\n",
    "2. WALKING_UPSTAIRS\n",
    "3. WALKING_DOWNSTAIRS\n",
    "4. SITTING\n",
    "5. STANDING\n",
    "6. LAYING\n",
    "7. STAND_TO_SIT\n",
    "8. SIT_TO_STAND\n",
    "9. SIT_TO_LIE\n",
    "10. LIE_TO_SIT\n",
    "11. STAND_TO_LIE\n",
    "12. LIE_TO_STAND\n",
    "\n",
    "**Количество атрибутов**: 561\n",
    "<br>\n",
    "**Основные атрибуты**: Измерения гироскопа и акселерометра в 3х осях, фильтры их значений\n",
    "<br>\n",
    "**Полный список атрибутов**: Features.txt\n",
    "### 2. Ход работы\n",
    "#### Исходный код\n"
   ]
  },
  {
   "cell_type": "code",
   "execution_count": null,
   "metadata": {},
   "outputs": [],
   "source": [
    "from sklearn.ensemble import RandomForestClassifier\n",
    "from sklearn.metrics import accuracy_score\n",
    "from sklearn.tree import DecisionTreeClassifier\n",
    "import utils\n",
    "from data import Data\n",
    "\n",
    "\n",
    "def calculate_accuracy(data):\n",
    "    dtc = DecisionTreeClassifier()\n",
    "    dtc.fit(data.train_data, data.train_classes)\n",
    "    dtc_accuracy = accuracy_score(data.test_classes, dtc.predict(data.test_data))\n",
    "\n",
    "    rfc = RandomForestClassifier(n_estimators=100)\n",
    "    rfc.fit(data.train_data, data.train_classes)\n",
    "    rfc_accuracy = accuracy_score(data.test_classes, rfc.predict(data.test_data))\n",
    "    return dtc_accuracy, rfc_accuracy\n",
    "\n",
    "\n",
    "def main():\n",
    "    file_data, file_classes = utils.load_data()\n",
    "    set_test_coefficients = [0.6, 0.7, 0.8, 0.9]\n",
    "\n",
    "    for c in set_test_coefficients:\n",
    "        dtc_accuracy, rfc_accuracy = calculate_accuracy(Data(file_data, file_classes, 1, c))\n",
    "        text = '{}, {}, {}\\n'.format(c * 100, dtc_accuracy * 100, rfc_accuracy * 100)\n",
    "        print(text)\n",
    "\n",
    "\n",
    "main()"
   ]
  },
  {
   "cell_type": "markdown",
   "metadata": {},
   "source": [
    "#### Вспомогательные методы\\классы"
   ]
  },
  {
   "cell_type": "code",
   "execution_count": 5,
   "metadata": {},
   "outputs": [],
   "source": [
    "def load_data():\n",
    "    data = np.loadtxt('../../HAPT Data Set/Train/X_train.txt', delimiter=' ')\n",
    "    classes = np.loadtxt('../../HAPT Data Set/Train/y_train.txt')\n",
    "    return data, classes\n",
    "\n",
    "\n",
    "class Data:\n",
    "    def __init__(self, data, classes, size, train_size, attributes_count = 561):\n",
    "        size = int(data.shape[0] * size)\n",
    "        self.data = data[0:size, :attributes_count]\n",
    "        self.classes = classes[0:size]\n",
    "        self.train_data, self.test_data, self.train_classes, self.test_classes = train_test_split(self.data, self.classes,\n",
    "                                                                                                  train_size=train_size,\n",
    "                                                                                                  test_size=1 - train_size)"
   ]
  },
  {
   "cell_type": "markdown",
   "metadata": {},
   "source": [
    "### Результаты\n",
    "<table border=\"1\">\n",
    "    <thead>\n",
    "    <tr>\n",
    "        <th>Номер эксперимента</th>\n",
    "        <th>Размер обучающей выборки</th>\n",
    "        <th>Decision tree accuracy</th>\n",
    "        <th>Random forest accuracy</th>\n",
    "    </tr>\n",
    "    </thead>\n",
    "    <tbody>\n",
    "    <tr>\n",
    "        <td>1</td>\n",
    "        <td>60</td>\n",
    "        <td>90.40875442549083</td>\n",
    "        <td>95.91245574509173</td>\n",
    "    </tr>\n",
    "        <tr>\n",
    "        <td>2</td>\n",
    "        <td>70</td>\n",
    "        <td>90.86229086229086</td>\n",
    "        <td>96.73959673959675</td>\n",
    "    </tr>\n",
    "        <tr>\n",
    "        <td>3</td>\n",
    "        <td>80</td>\n",
    "        <td>92.21364221364222</td>\n",
    "        <td>96.84684684684684</td>\n",
    "    </tr>\n",
    "        <tr>\n",
    "        <td>4</td>\n",
    "        <td>90</td>\n",
    "        <td>90.34749034749035</td>\n",
    "        <td>96.52509652509652</td>\n",
    "    </tr>\n",
    "    </tbody>\n",
    " </table>"
   ]
  },
  {
   "cell_type": "markdown",
   "metadata": {},
   "source": [
    "### Вывод\n",
    "В ходе лабораторной работы были получены практические навыки работы с методом деревьев решений на практических примерах с использованием языка программирования python и библиотеки sklearn.\n",
    "<br>\n",
    "<br>\n",
    "Были использованы классификаторы Dicision Tree Classifier и Randrom Forest Classifier, показавшие хорошую точность предсказаний (88 - 100%) с различными по размеру обучающими выборками. Тем не менее Randrom Forest Classifier показал лучший результат по сравнению с Dicision Tree Classifier в каждом эксперименте"
   ]
  }
 ],
 "metadata": {
  "kernelspec": {
   "display_name": "Python 3",
   "language": "python",
   "name": "python3"
  },
  "language_info": {
   "codemirror_mode": {
    "name": "ipython",
    "version": 3
   },
   "file_extension": ".py",
   "mimetype": "text/x-python",
   "name": "python",
   "nbconvert_exporter": "python",
   "pygments_lexer": "ipython3",
   "version": "3.7.2"
  }
 },
 "nbformat": 4,
 "nbformat_minor": 1
}
